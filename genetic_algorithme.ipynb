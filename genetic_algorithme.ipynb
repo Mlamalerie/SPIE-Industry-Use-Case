{
 "cells": [
  {
   "cell_type": "code",
   "execution_count": 1,
   "metadata": {
    "collapsed": true
   },
   "outputs": [],
   "source": [
    "from typing import List\n",
    "from data.equipements import EquipementsDataManager\n",
    "from data.reseau_maisons import get_dict_parents_enfants\n",
    "from optimization.schedule import Schedule, Reseau\n",
    "import random\n",
    "import numpy as np\n",
    "from typing import Dict, Tuple"
   ]
  },
  {
   "cell_type": "code",
   "execution_count": 2,
   "outputs": [
    {
     "data": {
      "text/plain": "{'PL1111': ['M120-5-1104', 'A120-4-639', 'M160-5-246'],\n 'PL1112': ['M140-5-46', 'M85-3-367', 'A30-2-515']}"
     },
     "execution_count": 2,
     "metadata": {},
     "output_type": "execute_result"
    }
   ],
   "source": [
    "parents_enfants = get_dict_parents_enfants(limit_parents=2, limit_child_per_parent=3)\n",
    "parents_enfants"
   ],
   "metadata": {
    "collapsed": false
   }
  },
  {
   "cell_type": "code",
   "execution_count": 3,
   "outputs": [
    {
     "data": {
      "text/plain": "6"
     },
     "execution_count": 3,
     "metadata": {},
     "output_type": "execute_result"
    }
   ],
   "source": [
    "example_schedules = [Schedule(logement, p) for p, logements in parents_enfants.items() for logement in logements]\n",
    "len(example_schedules)"
   ],
   "metadata": {
    "collapsed": false
   }
  },
  {
   "cell_type": "code",
   "execution_count": 4,
   "outputs": [
    {
     "data": {
      "text/plain": "[0, 1, 3, 4, 5, 7, 8]"
     },
     "execution_count": 4,
     "metadata": {},
     "output_type": "execute_result"
    }
   ],
   "source": [
    "[Schedule.eqm.get_index_equipement_by_name(e) for e in example_schedules[0].logement_equipements]"
   ],
   "metadata": {
    "collapsed": false
   }
  },
  {
   "cell_type": "code",
   "execution_count": 5,
   "outputs": [
    {
     "data": {
      "text/plain": "array([[0. , 0. , 0. , 0. , 0. , 0. , 0. , 0. , 0. , 0. , 0. , 0. , 0. ,\n        0. , 0. , 0. , 0. , 0. , 0. , 0. , 0. , 1.3, 0. , 0. ],\n       [0. , 0. , 0. , 0. , 0. , 0. , 0. , 0. , 0. , 0. , 0. , 0. , 0. ,\n        0. , 0. , 0. , 2. , 0. , 0. , 0. , 0. , 0. , 0. , 0. ],\n       [0. , 0. , 0. , 0. , 0. , 0. , 0. , 0. , 0. , 0. , 0. , 0. , 0. ,\n        0. , 0. , 0. , 0. , 0. , 0. , 0. , 0. , 0. , 0. , 0. ],\n       [0. , 0. , 0. , 0.1, 0. , 0. , 0. , 0. , 0. , 0. , 0. , 0. , 0. ,\n        0. , 0. , 0. , 0. , 0. , 0. , 0. , 0. , 0. , 0. , 0. ],\n       [0. , 0. , 0. , 0. , 0. , 0.1, 0. , 0. , 0. , 0. , 0. , 0. , 0. ,\n        0. , 0. , 0. , 0. , 0. , 0. , 0. , 0.1, 0.1, 0. , 0. ],\n       [0.4, 0.4, 0.4, 0.4, 0.4, 0. , 0. , 0. , 0. , 0. , 0. , 0. , 0. ,\n        0. , 0. , 0. , 0. , 0. , 0. , 0. , 0. , 0. , 0. , 0.4],\n       [0. , 0. , 0. , 0. , 0. , 0. , 0. , 0. , 0. , 0. , 0. , 0. , 0. ,\n        0. , 0. , 0. , 0. , 0. , 0. , 0. , 0. , 0. , 0. , 0. ],\n       [0. , 0. , 0. , 0. , 0. , 0. , 0. , 0. , 0. , 0. , 0. , 0. , 0. ,\n        0. , 0. , 0. , 0. , 0. , 0. , 0. , 0. , 0. , 1.6, 0. ],\n       [0. , 0. , 0. , 0. , 0. , 0. , 0. , 0. , 0. , 0. , 0. , 0. , 0. ,\n        0. , 0. , 0. , 0. , 0. , 0. , 0. , 0. , 0. , 0. , 1.2],\n       [0. , 0. , 0. , 0. , 0. , 0. , 0. , 0. , 0. , 0. , 0. , 0. , 0. ,\n        0. , 0. , 0. , 0. , 0. , 0. , 0. , 0. , 0. , 0. , 0. ],\n       [0. , 0. , 0. , 0. , 0. , 0. , 0. , 0. , 0. , 0. , 0. , 0. , 0. ,\n        0. , 0. , 0. , 0. , 0. , 0. , 0. , 0. , 0. , 0. , 0. ]])"
     },
     "execution_count": 5,
     "metadata": {},
     "output_type": "execute_result"
    }
   ],
   "source": [
    "example_schedules[0].genome"
   ],
   "metadata": {
    "collapsed": false
   }
  },
  {
   "cell_type": "code",
   "execution_count": 6,
   "outputs": [
    {
     "data": {
      "text/plain": "array([0.4, 0.4, 0.4, 0.5, 0.4, 0.1, 0. , 0. , 0. , 0. , 0. , 0. , 0. ,\n       0. , 0. , 0. , 2. , 0. , 0. , 0. , 0.1, 1.4, 1.6, 1.6])"
     },
     "execution_count": 6,
     "metadata": {},
     "output_type": "execute_result"
    }
   ],
   "source": [
    "np.sum(example_schedules[0].genome, axis=0)"
   ],
   "metadata": {
    "collapsed": false
   }
  },
  {
   "cell_type": "code",
   "execution_count": 7,
   "outputs": [
    {
     "data": {
      "text/plain": "<optimization.schedule.Reseau at 0x1f33e58e5c0>"
     },
     "execution_count": 7,
     "metadata": {},
     "output_type": "execute_result"
    }
   ],
   "source": [
    "rezo = Reseau(schedules=example_schedules)\n",
    "rezo"
   ],
   "metadata": {
    "collapsed": false
   }
  },
  {
   "cell_type": "code",
   "execution_count": 8,
   "outputs": [
    {
     "name": "stdout",
     "output_type": "stream",
     "text": [
      "- GLOBAL STATS -----------------------------------\n",
      "* Cost accumulés: 603.3299999999999 \n",
      "\n",
      "- LEAFS STATS (6 logements) ----------------------\n",
      "* Cost moyenne: 100.55499999999999\n",
      "* Cost std: 0\n",
      "* Cost min: 100.28\n",
      "* Cost max: 100.95\n",
      "--------------------------------------------------\n",
      "PS\n",
      "└── PL1\n",
      "    └── PL11\n",
      "        └── PL111\n",
      "            ├── PL1111\n",
      "            │   ├── M120-5-1104\n",
      "            │   ├── A120-4-639\n",
      "            │   └── M160-5-246\n",
      "            └── PL1112\n",
      "                ├── M140-5-46\n",
      "                ├── M85-3-367\n",
      "                └── A30-2-515\n",
      "--------------------------------------------------\n"
     ]
    }
   ],
   "source": [
    "rezo.print()"
   ],
   "metadata": {
    "collapsed": false
   }
  },
  {
   "cell_type": "markdown",
   "source": [
    "## 1. Indiviual & Population"
   ],
   "metadata": {
    "collapsed": false
   }
  },
  {
   "cell_type": "code",
   "execution_count": 9,
   "outputs": [
    {
     "name": "stdout",
     "output_type": "stream",
     "text": [
      "- GLOBAL STATS -----------------------------------\n",
      "* Cost accumulés: 603.73 \n",
      "\n",
      "- LEAFS STATS (6 logements) ----------------------\n",
      "* Cost moyenne: 100.62166666666667\n",
      "* Cost std: 0\n",
      "* Cost min: 100.06\n",
      "* Cost max: 100.98\n",
      "--------------------------------------------------\n",
      "PS\n",
      "└── PL1\n",
      "    └── PL11\n",
      "        └── PL111\n",
      "            ├── PL1111\n",
      "            │   ├── M120-5-1104\n",
      "            │   ├── A120-4-639\n",
      "            │   └── M160-5-246\n",
      "            └── PL1112\n",
      "                ├── M140-5-46\n",
      "                ├── M85-3-367\n",
      "                └── A30-2-515\n",
      "--------------------------------------------------\n"
     ]
    }
   ],
   "source": [
    "def init_indivual(parents_enfants: dict) -> Reseau:\n",
    "    schedules = [Schedule(logement, p) for p, logements in parents_enfants.items() for logement in logements]\n",
    "    return Reseau(schedules=schedules)\n",
    "\n",
    "\n",
    "test_rezo = init_indivual(parents_enfants)\n",
    "test_rezo.print()"
   ],
   "metadata": {
    "collapsed": false
   }
  },
  {
   "cell_type": "markdown",
   "source": [],
   "metadata": {
    "collapsed": false
   }
  },
  {
   "cell_type": "code",
   "execution_count": 10,
   "outputs": [
    {
     "data": {
      "text/plain": "[<optimization.schedule.Reseau at 0x1f33e58cbe0>,\n <optimization.schedule.Reseau at 0x1f32e297b50>,\n <optimization.schedule.Reseau at 0x1f33e53fbb0>,\n <optimization.schedule.Reseau at 0x1f33e58fcd0>,\n <optimization.schedule.Reseau at 0x1f33e58d720>,\n <optimization.schedule.Reseau at 0x1f33e58cd60>,\n <optimization.schedule.Reseau at 0x1f33e53f7f0>,\n <optimization.schedule.Reseau at 0x1f33e58c070>,\n <optimization.schedule.Reseau at 0x1f33f939510>,\n <optimization.schedule.Reseau at 0x1f33f93b490>,\n <optimization.schedule.Reseau at 0x1f33f93b580>,\n <optimization.schedule.Reseau at 0x1f33e58e050>,\n <optimization.schedule.Reseau at 0x1f33e58c580>,\n <optimization.schedule.Reseau at 0x1f33f93b430>,\n <optimization.schedule.Reseau at 0x1f33f93b2b0>,\n <optimization.schedule.Reseau at 0x1f33f939e10>,\n <optimization.schedule.Reseau at 0x1f33f9518a0>,\n <optimization.schedule.Reseau at 0x1f33f9386d0>,\n <optimization.schedule.Reseau at 0x1f33f93b070>,\n <optimization.schedule.Reseau at 0x1f33f953550>,\n <optimization.schedule.Reseau at 0x1f33f951570>,\n <optimization.schedule.Reseau at 0x1f33f9538e0>,\n <optimization.schedule.Reseau at 0x1f33f93acb0>,\n <optimization.schedule.Reseau at 0x1f33f951900>,\n <optimization.schedule.Reseau at 0x1f33f952b00>,\n <optimization.schedule.Reseau at 0x1f33f951a80>,\n <optimization.schedule.Reseau at 0x1f33f9522f0>,\n <optimization.schedule.Reseau at 0x1f33f971cf0>,\n <optimization.schedule.Reseau at 0x1f33f971ab0>,\n <optimization.schedule.Reseau at 0x1f33f972980>,\n <optimization.schedule.Reseau at 0x1f33f973070>,\n <optimization.schedule.Reseau at 0x1f33f972d40>,\n <optimization.schedule.Reseau at 0x1f33f971f30>,\n <optimization.schedule.Reseau at 0x1f33f971b10>,\n <optimization.schedule.Reseau at 0x1f33f973d30>,\n <optimization.schedule.Reseau at 0x1f33f972dd0>,\n <optimization.schedule.Reseau at 0x1f33f989120>,\n <optimization.schedule.Reseau at 0x1f33f973820>,\n <optimization.schedule.Reseau at 0x1f33f972ef0>,\n <optimization.schedule.Reseau at 0x1f33f98ae00>,\n <optimization.schedule.Reseau at 0x1f33f988dc0>,\n <optimization.schedule.Reseau at 0x1f33f98b1f0>,\n <optimization.schedule.Reseau at 0x1f33f98bdc0>,\n <optimization.schedule.Reseau at 0x1f33f98a290>,\n <optimization.schedule.Reseau at 0x1f33f9711e0>,\n <optimization.schedule.Reseau at 0x1f33f98a740>,\n <optimization.schedule.Reseau at 0x1f33f989e40>,\n <optimization.schedule.Reseau at 0x1f33f98ab90>,\n <optimization.schedule.Reseau at 0x1f33f9a1ba0>,\n <optimization.schedule.Reseau at 0x1f33f98b130>,\n <optimization.schedule.Reseau at 0x1f33f98af50>,\n <optimization.schedule.Reseau at 0x1f33f9a33d0>,\n <optimization.schedule.Reseau at 0x1f33f9a21a0>,\n <optimization.schedule.Reseau at 0x1f33f9a3a90>,\n <optimization.schedule.Reseau at 0x1f33f98a440>,\n <optimization.schedule.Reseau at 0x1f33f9a0580>,\n <optimization.schedule.Reseau at 0x1f33f9a3610>,\n <optimization.schedule.Reseau at 0x1f33f9a3e80>,\n <optimization.schedule.Reseau at 0x1f33f9a38b0>,\n <optimization.schedule.Reseau at 0x1f33f9bd840>,\n <optimization.schedule.Reseau at 0x1f33f9bd120>,\n <optimization.schedule.Reseau at 0x1f33f9beb00>,\n <optimization.schedule.Reseau at 0x1f33f9bf1f0>,\n <optimization.schedule.Reseau at 0x1f33f9bfb80>,\n <optimization.schedule.Reseau at 0x1f33f9be530>,\n <optimization.schedule.Reseau at 0x1f33f9be860>,\n <optimization.schedule.Reseau at 0x1f33f9bf550>,\n <optimization.schedule.Reseau at 0x1f33f9bf010>,\n <optimization.schedule.Reseau at 0x1f33f9d9540>,\n <optimization.schedule.Reseau at 0x1f33f9bfee0>,\n <optimization.schedule.Reseau at 0x1f33f9bc4c0>,\n <optimization.schedule.Reseau at 0x1f33f9da920>,\n <optimization.schedule.Reseau at 0x1f33f9d9690>,\n <optimization.schedule.Reseau at 0x1f33f9db370>,\n <optimization.schedule.Reseau at 0x1f33f9dbe20>,\n <optimization.schedule.Reseau at 0x1f33f9bf790>,\n <optimization.schedule.Reseau at 0x1f33f9db0a0>,\n <optimization.schedule.Reseau at 0x1f33f9dad10>,\n <optimization.schedule.Reseau at 0x1f33f9d8850>,\n <optimization.schedule.Reseau at 0x1f33f9d8d00>,\n <optimization.schedule.Reseau at 0x1f33ec193f0>,\n <optimization.schedule.Reseau at 0x1f33ec1a410>,\n <optimization.schedule.Reseau at 0x1f33ec1afe0>,\n <optimization.schedule.Reseau at 0x1f33ec1b6d0>,\n <optimization.schedule.Reseau at 0x1f33f9dbd00>,\n <optimization.schedule.Reseau at 0x1f33f9d95d0>,\n <optimization.schedule.Reseau at 0x1f33ec199f0>,\n <optimization.schedule.Reseau at 0x1f33f9dbcd0>,\n <optimization.schedule.Reseau at 0x1f33ec1af20>,\n <optimization.schedule.Reseau at 0x1f33ec1b730>,\n <optimization.schedule.Reseau at 0x1f33ec04c40>,\n <optimization.schedule.Reseau at 0x1f33ec060b0>,\n <optimization.schedule.Reseau at 0x1f33ec19450>,\n <optimization.schedule.Reseau at 0x1f33ec19660>,\n <optimization.schedule.Reseau at 0x1f33ec07730>,\n <optimization.schedule.Reseau at 0x1f33ec06080>,\n <optimization.schedule.Reseau at 0x1f33ec05a50>,\n <optimization.schedule.Reseau at 0x1f33ec04220>,\n <optimization.schedule.Reseau at 0x1f33ec1ba30>,\n <optimization.schedule.Reseau at 0x1f33ec07b80>]"
     },
     "execution_count": 10,
     "metadata": {},
     "output_type": "execute_result"
    }
   ],
   "source": [
    "def init_population(parents_enfants: dict, size: int):\n",
    "    return [init_indivual(parents_enfants) for _ in range(size)]\n",
    "\n",
    "\n",
    "test_population = init_population(parents_enfants, 100)\n",
    "test_population"
   ],
   "metadata": {
    "collapsed": false
   }
  },
  {
   "cell_type": "markdown",
   "source": [
    "## 2. Selection"
   ],
   "metadata": {
    "collapsed": false
   }
  },
  {
   "cell_type": "code",
   "execution_count": 11,
   "outputs": [
    {
     "name": "stdout",
     "output_type": "stream",
     "text": [
      "d\n"
     ]
    }
   ],
   "source": [
    "print(\"d\")"
   ],
   "metadata": {
    "collapsed": false
   }
  },
  {
   "cell_type": "code",
   "execution_count": null,
   "outputs": [
    {
     "ename": "KeyboardInterrupt",
     "evalue": "",
     "output_type": "error",
     "traceback": [
      "\u001B[1;31m---------------------------------------------------------------------------\u001B[0m",
      "\u001B[1;31mKeyboardInterrupt\u001B[0m                         Traceback (most recent call last)",
      "Cell \u001B[1;32mIn[24], line 24\u001B[0m\n\u001B[0;32m     22\u001B[0m c \u001B[38;5;241m=\u001B[39m [\u001B[38;5;241m15\u001B[39m, \u001B[38;5;241m16\u001B[39m, \u001B[38;5;241m17\u001B[39m, \u001B[38;5;241m18\u001B[39m, \u001B[38;5;241m19\u001B[39m, \u001B[38;5;241m20\u001B[39m]\n\u001B[0;32m     23\u001B[0m w \u001B[38;5;241m=\u001B[39m [\u001B[38;5;241m10\u001B[39m, \u001B[38;5;241m5\u001B[39m, \u001B[38;5;241m1\u001B[39m, \u001B[38;5;241m1\u001B[39m, \u001B[38;5;241m500\u001B[39m, \u001B[38;5;241m2\u001B[39m]\n\u001B[1;32m---> 24\u001B[0m \u001B[43msample\u001B[49m\u001B[43m(\u001B[49m\u001B[43mc\u001B[49m\u001B[43m,\u001B[49m\u001B[43m \u001B[49m\u001B[38;5;241;43m3\u001B[39;49m\u001B[43m,\u001B[49m\u001B[43m \u001B[49m\u001B[43mw\u001B[49m\u001B[43m)\u001B[49m\n",
      "Cell \u001B[1;32mIn[24], line 9\u001B[0m, in \u001B[0;36msample\u001B[1;34m(candidates, k, weights, inverse_weights)\u001B[0m\n\u001B[0;32m      7\u001B[0m result_ \u001B[38;5;241m=\u001B[39m []\n\u001B[0;32m      8\u001B[0m \u001B[38;5;28;01mwhile\u001B[39;00m \u001B[38;5;28mlen\u001B[39m(result_) \u001B[38;5;241m<\u001B[39m k:\n\u001B[1;32m----> 9\u001B[0m     choosen \u001B[38;5;241m=\u001B[39m \u001B[43mrandom\u001B[49m\u001B[38;5;241;43m.\u001B[39;49m\u001B[43mchoices\u001B[49m\u001B[43m(\u001B[49m\u001B[43mcandidates_\u001B[49m\u001B[43m,\u001B[49m\u001B[43m \u001B[49m\u001B[43mweights\u001B[49m\u001B[38;5;241;43m=\u001B[39;49m\u001B[43mweights_\u001B[49m\u001B[43m)\u001B[49m[\u001B[38;5;241m0\u001B[39m]\n\u001B[0;32m     10\u001B[0m     \u001B[38;5;28;01mif\u001B[39;00m choosen \u001B[38;5;129;01mnot\u001B[39;00m \u001B[38;5;129;01min\u001B[39;00m result_:\n\u001B[0;32m     11\u001B[0m         result_\u001B[38;5;241m.\u001B[39mappend(choosen)\n",
      "File \u001B[1;32mC:\\Python310\\lib\\random.py:514\u001B[0m, in \u001B[0;36mRandom.choices\u001B[1;34m(self, population, weights, cum_weights, k)\u001B[0m\n\u001B[0;32m    507\u001B[0m \u001B[38;5;250m\u001B[39m\u001B[38;5;124;03m\"\"\"Return a k sized list of population elements chosen with replacement.\u001B[39;00m\n\u001B[0;32m    508\u001B[0m \n\u001B[0;32m    509\u001B[0m \u001B[38;5;124;03mIf the relative weights or cumulative weights are not specified,\u001B[39;00m\n\u001B[0;32m    510\u001B[0m \u001B[38;5;124;03mthe selections are made with equal probability.\u001B[39;00m\n\u001B[0;32m    511\u001B[0m \n\u001B[0;32m    512\u001B[0m \u001B[38;5;124;03m\"\"\"\u001B[39;00m\n\u001B[0;32m    513\u001B[0m random \u001B[38;5;241m=\u001B[39m \u001B[38;5;28mself\u001B[39m\u001B[38;5;241m.\u001B[39mrandom\n\u001B[1;32m--> 514\u001B[0m n \u001B[38;5;241m=\u001B[39m \u001B[38;5;28;43mlen\u001B[39;49m\u001B[43m(\u001B[49m\u001B[43mpopulation\u001B[49m\u001B[43m)\u001B[49m\n\u001B[0;32m    515\u001B[0m \u001B[38;5;28;01mif\u001B[39;00m cum_weights \u001B[38;5;129;01mis\u001B[39;00m \u001B[38;5;28;01mNone\u001B[39;00m:\n\u001B[0;32m    516\u001B[0m     \u001B[38;5;28;01mif\u001B[39;00m weights \u001B[38;5;129;01mis\u001B[39;00m \u001B[38;5;28;01mNone\u001B[39;00m:\n",
      "\u001B[1;31mKeyboardInterrupt\u001B[0m: "
     ]
    }
   ],
   "source": [
    "def sample(candidates : list, k, weights : list, inverse_weights = True):\n",
    "    candidates_ = candidates.copy()\n",
    "    weights_ = weights.copy()\n",
    "    if inverse_weights:\n",
    "        weights_ = list(np.reciprocal(weights_) / np.sum(weights_))\n",
    "\n",
    "    result_ = []\n",
    "    while len(result_) < k:\n",
    "        choosen = random.choices(candidates_, weights=weights_)[0]\n",
    "        if choosen not in result_:\n",
    "            result_.append(choosen)\n",
    "\n",
    "            i = result_.index(choosen)\n",
    "            #print(i,candidates_,weights_)\n",
    "            candidates_.pop(i)\n",
    "            weights_.pop(i)\n",
    "    del candidates_\n",
    "    del weights_\n",
    "    return result_\n",
    "\n",
    "\n",
    "c = [15, 16, 17, 18, 19, 20]\n",
    "w = [10, 5, 1, 1, 500, 2]\n",
    "sample(c, 3, w)"
   ],
   "metadata": {
    "collapsed": false
   }
  },
  {
   "cell_type": "code",
   "execution_count": 13,
   "outputs": [
    {
     "data": {
      "text/plain": "[15, 16, 17, 18, 19, 20]"
     },
     "execution_count": 13,
     "metadata": {},
     "output_type": "execute_result"
    }
   ],
   "source": [
    "c"
   ],
   "metadata": {
    "collapsed": false
   }
  },
  {
   "cell_type": "code",
   "execution_count": 14,
   "outputs": [
    {
     "name": "stdout",
     "output_type": "stream",
     "text": [
      "600.98 601.43\n",
      "<class 'list'> <class 'list'>\n",
      "50\n"
     ]
    },
    {
     "data": {
      "text/plain": "[<optimization.schedule.Reseau at 0x1f33f9d9540>,\n <optimization.schedule.Reseau at 0x1f33f93acb0>,\n <optimization.schedule.Reseau at 0x1f33ec199f0>,\n <optimization.schedule.Reseau at 0x1f32e297b50>,\n <optimization.schedule.Reseau at 0x1f33ec193f0>,\n <optimization.schedule.Reseau at 0x1f33f951570>,\n <optimization.schedule.Reseau at 0x1f33f988dc0>,\n <optimization.schedule.Reseau at 0x1f33f989120>,\n <optimization.schedule.Reseau at 0x1f33f973070>,\n <optimization.schedule.Reseau at 0x1f33f98a440>,\n <optimization.schedule.Reseau at 0x1f33f9a3a90>,\n <optimization.schedule.Reseau at 0x1f33f9a21a0>,\n <optimization.schedule.Reseau at 0x1f33e58cbe0>,\n <optimization.schedule.Reseau at 0x1f33f951a80>,\n <optimization.schedule.Reseau at 0x1f33f98b130>,\n <optimization.schedule.Reseau at 0x1f33ec1afe0>,\n <optimization.schedule.Reseau at 0x1f33f9bc4c0>,\n <optimization.schedule.Reseau at 0x1f33f9a3e80>,\n <optimization.schedule.Reseau at 0x1f33f9bd120>,\n <optimization.schedule.Reseau at 0x1f33f9dbe20>,\n <optimization.schedule.Reseau at 0x1f33f989e40>,\n <optimization.schedule.Reseau at 0x1f33f9dad10>,\n <optimization.schedule.Reseau at 0x1f33f9518a0>,\n <optimization.schedule.Reseau at 0x1f33f971b10>,\n <optimization.schedule.Reseau at 0x1f33f9beb00>,\n <optimization.schedule.Reseau at 0x1f33f9a33d0>,\n <optimization.schedule.Reseau at 0x1f33ec19660>,\n <optimization.schedule.Reseau at 0x1f33f9be530>,\n <optimization.schedule.Reseau at 0x1f33f93b430>,\n <optimization.schedule.Reseau at 0x1f33e58cd60>,\n <optimization.schedule.Reseau at 0x1f33f98af50>,\n <optimization.schedule.Reseau at 0x1f33f971f30>,\n <optimization.schedule.Reseau at 0x1f33f9bd840>,\n <optimization.schedule.Reseau at 0x1f33f972d40>,\n <optimization.schedule.Reseau at 0x1f33ec1ba30>,\n <optimization.schedule.Reseau at 0x1f33f9386d0>,\n <optimization.schedule.Reseau at 0x1f33f9522f0>,\n <optimization.schedule.Reseau at 0x1f33f939e10>,\n <optimization.schedule.Reseau at 0x1f33f9d8d00>,\n <optimization.schedule.Reseau at 0x1f33ec05a50>,\n <optimization.schedule.Reseau at 0x1f33f951900>,\n <optimization.schedule.Reseau at 0x1f33f9db0a0>,\n <optimization.schedule.Reseau at 0x1f33f93b580>,\n <optimization.schedule.Reseau at 0x1f33f9bf550>,\n <optimization.schedule.Reseau at 0x1f33f9bfee0>,\n <optimization.schedule.Reseau at 0x1f33ec1b730>,\n <optimization.schedule.Reseau at 0x1f33ec06080>,\n <optimization.schedule.Reseau at 0x1f33f9a1ba0>,\n <optimization.schedule.Reseau at 0x1f33f98ae00>,\n <optimization.schedule.Reseau at 0x1f33ec19450>]"
     },
     "execution_count": 14,
     "metadata": {},
     "output_type": "execute_result"
    }
   ],
   "source": [
    "def selection(population: List[Reseau], pct_retain: float = 0.1, pct_selection: float = 0.4) -> List[Reseau]:\n",
    "    # crerr 2 mode de selection : on garde les pct_retain meilleurs, et on choisie les autres au hasard pondére par le fotness\n",
    "    population_sorted = sorted(population)\n",
    "\n",
    "    how_many_retain = int(len(population_sorted) * pct_retain)\n",
    "    how_many_selection = int(len(population_sorted) * pct_selection)\n",
    "\n",
    "    selected_individuals = population_sorted[:how_many_retain]\n",
    "    print(selected_individuals[0].global_cost, selected_individuals[2].global_cost)\n",
    "\n",
    "    others_individuals = population_sorted[how_many_retain:]\n",
    "\n",
    "    return selected_individuals + sample(others_individuals,k=how_many_selection,weights=[ind.get_global_cost() for ind in others_individuals])\n",
    "\n",
    "\n",
    "test_population = selection(population=test_population)\n",
    "print(len(test_population))\n",
    "test_population"
   ],
   "metadata": {
    "collapsed": false
   }
  },
  {
   "cell_type": "markdown",
   "source": [
    "## 3. Crossover"
   ],
   "metadata": {
    "collapsed": false
   }
  },
  {
   "cell_type": "code",
   "execution_count": 15,
   "outputs": [
    {
     "name": "stdout",
     "output_type": "stream",
     "text": [
      "PS\n",
      "└── PL1\n",
      "    └── PL11\n",
      "        └── PL111\n",
      "            ├── PL1111\n",
      "            │   ├── M120-5-1104\n",
      "            │   ├── A120-4-639\n",
      "            │   └── M160-5-246\n",
      "            └── PL1112\n",
      "                ├── M140-5-46\n",
      "                ├── M85-3-367\n",
      "                └── A30-2-515\n",
      "--------------------------------------------------\n"
     ]
    }
   ],
   "source": [
    "test_population[0].print(display_stats=False)"
   ],
   "metadata": {
    "collapsed": false
   }
  },
  {
   "cell_type": "code",
   "execution_count": 16,
   "outputs": [
    {
     "name": "stdout",
     "output_type": "stream",
     "text": [
      "PS\n",
      "└── PL1\n",
      "    └── PL11\n",
      "        └── PL111\n",
      "            ├── PL1111\n",
      "            │   ├── M120-5-1104\n",
      "            │   ├── A120-4-639\n",
      "            │   └── M160-5-246\n",
      "            └── PL1112\n",
      "                ├── M140-5-46\n",
      "                ├── M85-3-367\n",
      "                └── A30-2-515\n",
      "--------------------------------------------------\n"
     ]
    }
   ],
   "source": [
    "test_population[1].print(display_stats=False)"
   ],
   "metadata": {
    "collapsed": false
   }
  },
  {
   "cell_type": "code",
   "execution_count": 17,
   "outputs": [
    {
     "name": "stdout",
     "output_type": "stream",
     "text": [
      "Node(/PS/PL1/PL11/PL111/PL1111/M120-5-1104, schedule=<optimization.schedule.Schedule object at 0x000001F33F9D98A0>) Node(/PS/PL1/PL11/PL111/PL1111/M120-5-1104, schedule=<optimization.schedule.Schedule object at 0x000001F33F93BE20>)\n",
      "\n",
      "Node(/PS/PL1/PL11/PL111/PL1111/A120-4-639, schedule=<optimization.schedule.Schedule object at 0x000001F33F9D9180>) Node(/PS/PL1/PL11/PL111/PL1111/A120-4-639, schedule=<optimization.schedule.Schedule object at 0x000001F33F938A60>)\n",
      "\n",
      "Node(/PS/PL1/PL11/PL111/PL1111/M160-5-246, schedule=<optimization.schedule.Schedule object at 0x000001F33F9D9930>) Node(/PS/PL1/PL11/PL111/PL1111/M160-5-246, schedule=<optimization.schedule.Schedule object at 0x000001F33F953D30>)\n",
      "\n",
      "Node(/PS/PL1/PL11/PL111/PL1112/M140-5-46, schedule=<optimization.schedule.Schedule object at 0x000001F33F9D9CF0>) Node(/PS/PL1/PL11/PL111/PL1112/M140-5-46, schedule=<optimization.schedule.Schedule object at 0x000001F33F950730>)\n",
      "\n",
      "Node(/PS/PL1/PL11/PL111/PL1112/M85-3-367, schedule=<optimization.schedule.Schedule object at 0x000001F33F9D90F0>) Node(/PS/PL1/PL11/PL111/PL1112/M85-3-367, schedule=<optimization.schedule.Schedule object at 0x000001F33F951960>)\n",
      "\n",
      "Node(/PS/PL1/PL11/PL111/PL1112/A30-2-515, schedule=<optimization.schedule.Schedule object at 0x000001F33F9D9DB0>) Node(/PS/PL1/PL11/PL111/PL1112/A30-2-515, schedule=<optimization.schedule.Schedule object at 0x000001F33F950490>)\n",
      "\n"
     ]
    }
   ],
   "source": [
    "for l0,l1 in zip(test_population[0].tree.leaves, test_population[1].tree.leaves):\n",
    "    print(l0,l1)\n",
    "    print()"
   ],
   "metadata": {
    "collapsed": false
   }
  },
  {
   "cell_type": "code",
   "execution_count": 18,
   "outputs": [],
   "source": [
    "def swap_leaf(a, b):\n",
    "    a, b = b, a\n",
    "    return a, b"
   ],
   "metadata": {
    "collapsed": false
   }
  },
  {
   "cell_type": "code",
   "execution_count": 19,
   "outputs": [
    {
     "name": "stdout",
     "output_type": "stream",
     "text": [
      "Node(/PS/PL1/PL11/PL111/PL1111/M120-5-1104, schedule=<optimization.schedule.Schedule object at 0x000001F33F9D98A0>) Node(/PS/PL1/PL11/PL111/PL1111/M120-5-1104, schedule=<optimization.schedule.Schedule object at 0x000001F33F93BE20>)\n",
      "\n",
      "Node(/PS/PL1/PL11/PL111/PL1111/A120-4-639, schedule=<optimization.schedule.Schedule object at 0x000001F33F9D9180>) Node(/PS/PL1/PL11/PL111/PL1111/A120-4-639, schedule=<optimization.schedule.Schedule object at 0x000001F33F938A60>)\n",
      "\n",
      "Node(/PS/PL1/PL11/PL111/PL1111/M160-5-246, schedule=<optimization.schedule.Schedule object at 0x000001F33F9D9930>) Node(/PS/PL1/PL11/PL111/PL1111/M160-5-246, schedule=<optimization.schedule.Schedule object at 0x000001F33F953D30>)\n",
      "\n",
      "Node(/PS/PL1/PL11/PL111/PL1112/M140-5-46, schedule=<optimization.schedule.Schedule object at 0x000001F33F9D9CF0>) Node(/PS/PL1/PL11/PL111/PL1112/M140-5-46, schedule=<optimization.schedule.Schedule object at 0x000001F33F950730>)\n",
      "\n",
      "Node(/PS/PL1/PL11/PL111/PL1112/M85-3-367, schedule=<optimization.schedule.Schedule object at 0x000001F33F9D90F0>) Node(/PS/PL1/PL11/PL111/PL1112/M85-3-367, schedule=<optimization.schedule.Schedule object at 0x000001F33F951960>)\n",
      "\n",
      "Node(/PS/PL1/PL11/PL111/PL1112/A30-2-515, schedule=<optimization.schedule.Schedule object at 0x000001F33F9D9DB0>) Node(/PS/PL1/PL11/PL111/PL1112/A30-2-515, schedule=<optimization.schedule.Schedule object at 0x000001F33F950490>)\n",
      "\n"
     ]
    }
   ],
   "source": [
    "for l0,l1 in zip(test_population[0].tree.leaves, test_population[1].tree.leaves):\n",
    "    l0,l1 = swap_leaf(l0,l1)\n",
    "\n",
    "for l0,l1 in zip(test_population[0].tree.leaves, test_population[1].tree.leaves):\n",
    "    print(l0,l1)\n",
    "    print()\n"
   ],
   "metadata": {
    "collapsed": false
   }
  },
  {
   "cell_type": "code",
   "execution_count": 21,
   "outputs": [
    {
     "data": {
      "text/plain": "(<optimization.schedule.Reseau at 0x1f33e58d180>,\n <optimization.schedule.Reseau at 0x1f33e58da50>)"
     },
     "execution_count": 21,
     "metadata": {},
     "output_type": "execute_result"
    }
   ],
   "source": [
    "def crossover(ind1: Reseau, ind2: Reseau) -> Tuple[Reseau]:\n",
    "\n",
    "    schedules1 = ind1.get_schedules()\n",
    "    schedules2 = ind2.get_schedules()\n",
    "    n_schedules = len(schedules1)\n",
    "    middle = n_schedules//2\n",
    "    new_schedules1 = schedules1[:middle] +  schedules2[middle:]\n",
    "    new_schedules2 = schedules2[:middle] +  schedules1[middle:]\n",
    "\n",
    "    return Reseau(new_schedules1), Reseau(new_schedules2)\n",
    "\n",
    "crossover(test_population[0],test_population[1])"
   ],
   "metadata": {
    "collapsed": false
   }
  },
  {
   "cell_type": "markdown",
   "source": [
    "### Evolve"
   ],
   "metadata": {
    "collapsed": false
   }
  },
  {
   "cell_type": "code",
   "execution_count": null,
   "outputs": [],
   "source": [
    "def evolve(population: List[Reseau], pct_retain,crossover_rate: float = 0.7):\n",
    "    \"\"\"Creates the next generation of a given population with the\n",
    "    given parameters.\n",
    "    \"\"\"\n",
    "    population = selection(population)\n",
    "\n",
    "    population_sorted = sorted(population)\n",
    "\n",
    "    how_many_retain = int(len(population_sorted) * pct_retain)\n",
    "    future_parent = population_sorted[:how_many_retain]\n",
    "\n",
    "    new_borns\n",
    "\n",
    "    # a portion of the most fit individuals become parents\n",
    "    # parents = graded[:int(len(graded)*pct_retain))"
   ],
   "metadata": {
    "collapsed": false
   }
  },
  {
   "cell_type": "markdown",
   "source": [
    "## 4. Mutation"
   ],
   "metadata": {
    "collapsed": false
   }
  },
  {
   "cell_type": "code",
   "execution_count": null,
   "outputs": [],
   "source": [],
   "metadata": {
    "collapsed": false
   }
  },
  {
   "cell_type": "markdown",
   "source": [],
   "metadata": {
    "collapsed": false
   }
  },
  {
   "cell_type": "code",
   "execution_count": 20,
   "outputs": [],
   "source": [],
   "metadata": {
    "collapsed": false
   }
  }
 ],
 "metadata": {
  "kernelspec": {
   "display_name": "Python 3",
   "language": "python",
   "name": "python3"
  },
  "language_info": {
   "codemirror_mode": {
    "name": "ipython",
    "version": 2
   },
   "file_extension": ".py",
   "mimetype": "text/x-python",
   "name": "python",
   "nbconvert_exporter": "python",
   "pygments_lexer": "ipython2",
   "version": "2.7.6"
  }
 },
 "nbformat": 4,
 "nbformat_minor": 0
}
